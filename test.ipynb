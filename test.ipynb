{
 "cells": [
  {
   "cell_type": "code",
   "execution_count": 1,
   "metadata": {},
   "outputs": [],
   "source": [
    "import cv2\n",
    "import os\n",
    "import numpy as np \n",
    "import pandas as pd \n",
    "from tensorflow.keras.utils import to_categorical\n",
    "from model import get_model\n",
    "from tensorflow.keras.optimizers import Adam\n",
    "\n",
    "IMG_SAVE_PATH = 'image_data'\n",
    "\n",
    "#load images\n",
    "\n",
    "dataset = []\n",
    "\n",
    "for directory in os.listdir(IMG_SAVE_PATH):\n",
    "    path = os.path.join(IMG_SAVE_PATH, directory)\n",
    "    if not os.path.isdir(path):\n",
    "        continue\n",
    "    for item in os.listdir(path):\n",
    "        if item.startswith('.'):\n",
    "            continue\n",
    "        img = cv2.imread(os.path.join(path, item))\n",
    "        img = cv2.cvtColor(img, cv2.COLOR_BGR2RGB)\n",
    "        img = cv2.resize(img, (300,300))\n",
    "        dataset.append([img, directory])\n",
    "\n",
    "data, labels = zip(*dataset)\n",
    "np.array(data).reshape(-1, 300,300,3)\n",
    "CLASS_MAP = {\n",
    "    'rock': 0,\n",
    "    'paper': 1,\n",
    "    'scissors': 2,\n",
    "    'none': 3\n",
    "}\n",
    "NUM_CLASSES = len(CLASS_MAP)\n"
   ]
  },
  {
   "cell_type": "code",
   "execution_count": 2,
   "metadata": {},
   "outputs": [],
   "source": [
    "\n",
    "def maper(temp):\n",
    "    return CLASS_MAP[temp]\n",
    "labels = list(map(maper, labels))\n",
    "labels = to_categorical(labels, num_classes=None )"
   ]
  },
  {
   "cell_type": "code",
   "execution_count": 9,
   "metadata": {},
   "outputs": [
    {
     "output_type": "execute_result",
     "data": {
      "text/plain": "(1500, 300, 300, 3)"
     },
     "metadata": {},
     "execution_count": 9
    }
   ],
   "source": [
    "input_size = np.array(data).shape\n",
    "input_size"
   ]
  },
  {
   "cell_type": "code",
   "execution_count": null,
   "metadata": {},
   "outputs": [],
   "source": [
    "import tensorflow as tf \n",
    "from tensorflow.keras.models import Sequential\n",
    "from tensorflow.keras.layers import Dense, Dropout, Conv2D, MaxPooling2D, Flatten, Activation, InputLayer\n",
    "from tensorflow.keras.optimizers import Adam\n",
    "\n",
    "def get_model(temp):\n",
    "    temp = temp[1:]\n",
    "    model = Sequential()\n",
    "    model.add(InputLayer(input_shape=temp))\n",
    "    model.add(Conv2D(128, (5,5), activation='relu'))\n",
    "    model.add(Conv2D(128, (5,5), activation='relu'))\n",
    "    model.add(MaxPooling2D(pool_size=(3,3)))\n",
    "    model.add(Dropout(0.4))\n",
    "    model.add(Conv2D(128, (5,5), activation='relu'))\n",
    "    model.add(Conv2D(128, (5,5), activation='relu'))\n",
    "    model.add(MaxPooling2D(pool_size=(3,3)))\n",
    "    model.add(Dropout(0.4))\n",
    "    model.add(Dense(128))\n",
    "    model.add(Activation('relu'))\n",
    "    model.add(Dropout(0.4))\n",
    "    model.add(Dense(128))\n",
    "    model.add(Activation('relu'))\n",
    "    model.add(Dropout(0.4))\n",
    "    model.add(Dense(128))\n",
    "    model.add(Activation('relu'))\n",
    "    model.add(Dropout(0.4))\n",
    "    model.add(Flatten())\n",
    "    model.add(Dense(64))\n",
    "    model.add(Activation('relu'))\n",
    "    model.add(Dense(4   ))\n",
    "    model.add(Activation('softmax')) \n",
    "    \n",
    "    return model"
   ]
  }
 ],
 "metadata": {
  "language_info": {
   "codemirror_mode": {
    "name": "ipython",
    "version": 3
   },
   "file_extension": ".py",
   "mimetype": "text/x-python",
   "name": "python",
   "nbconvert_exporter": "python",
   "pygments_lexer": "ipython3",
   "version": "3.6.9-final"
  },
  "orig_nbformat": 2,
  "kernelspec": {
   "name": "python36964bitc811cfb6548946beb22d5be752d9a0cf",
   "display_name": "Python 3.6.9 64-bit"
  }
 },
 "nbformat": 4,
 "nbformat_minor": 2
}